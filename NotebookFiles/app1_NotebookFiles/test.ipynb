{
 "cells": [
  {
   "cell_type": "code",
   "execution_count": 17,
   "metadata": {},
   "outputs": [],
   "source": [
    "import pickle\n",
    "import pandas as pd\n",
    "import requests\n",
    "from bs4 import BeautifulSoup"
   ]
  },
  {
   "cell_type": "code",
   "execution_count": 3,
   "metadata": {},
   "outputs": [],
   "source": [
    "with open('../Fruits_Vegs_Application/static/PickleFIles/classification_table.pkl','rb') as file:\n",
    "    cls = pickle.load(file)"
   ]
  },
  {
   "cell_type": "code",
   "execution_count": 4,
   "metadata": {},
   "outputs": [],
   "source": [
    "with open('./Fruits_Vegs_Application/static/PickleFIles/Classification_model.pkl','rb') as file:\n",
    "    RF_CLF = pickle.load(file)"
   ]
  },
  {
   "cell_type": "code",
   "execution_count": 5,
   "metadata": {},
   "outputs": [],
   "source": [
    "with open('./Fruits_Vegs_Application/static/PickleFIles/similarity.pkl','rb') as file:\n",
    "    similarity = pickle.load(file)"
   ]
  },
  {
   "cell_type": "code",
   "execution_count": 6,
   "metadata": {},
   "outputs": [],
   "source": [
    "with open('./Fruits_Vegs_Application/static/PickleFIles/Prediction_Model.pkl','rb') as file:\n",
    "    LR = pickle.load(file)"
   ]
  },
  {
   "cell_type": "code",
   "execution_count": 7,
   "metadata": {},
   "outputs": [],
   "source": [
    "with open('./Fruits_Vegs_Application/static/PickleFIles/Labels.pkl','rb') as file:\n",
    "    LE = pickle.load(file)"
   ]
  },
  {
   "cell_type": "code",
   "execution_count": 8,
   "metadata": {},
   "outputs": [],
   "source": [
    "with open('./Fruits_Vegs_Application/static/PickleFIles/pca.pkl','rb') as file:\n",
    "    pca = pickle.load(file)"
   ]
  },
  {
   "cell_type": "code",
   "execution_count": 20,
   "metadata": {},
   "outputs": [
    {
     "data": {
      "text/plain": [
       "Calcium                                                                     15.0\n",
       "Carbohydrate                                                                13.0\n",
       "Cholesterol                                                                  0.0\n",
       "Fatty_acids_total_saturated                                                  1.5\n",
       "Fatty_acids_total_trans                                                      0.0\n",
       "Fiber                                                                        3.0\n",
       "Iron                                                                         0.0\n",
       "Protein                                                                      1.0\n",
       "Sodium                                                                      10.0\n",
       "Sugars                                                                      10.0\n",
       "Fat                                                                          6.0\n",
       "Energy                                                                     110.0\n",
       "ingredients                    acai, filtered water, sugar, guarana extract p...\n",
       "Name: 10, dtype: object"
      ]
     },
     "execution_count": 20,
     "metadata": {},
     "output_type": "execute_result"
    }
   ],
   "source": [
    "cls.iloc[10]"
   ]
  },
  {
   "cell_type": "code",
   "execution_count": 21,
   "metadata": {},
   "outputs": [],
   "source": [
    "dic = {'Calcium': ['15'],\n",
    " 'Carbohydrate': ['13'],\n",
    " 'Cholesterol': ['0'],\n",
    " 'Fatty_acids_total_saturated': ['1.5'],\n",
    " 'Fatty_acids_total_trans': ['0'],\n",
    " 'Fiber': ['3.0'],\n",
    " 'Iron': ['0'],\n",
    " 'Protein': ['1.0'],\n",
    " 'Sodium': ['10.0'],\n",
    " 'Sugars': ['10'],\n",
    " 'Fat': ['6']}"
   ]
  },
  {
   "cell_type": "code",
   "execution_count": 22,
   "metadata": {},
   "outputs": [
    {
     "data": {
      "text/html": [
       "<div>\n",
       "<style scoped>\n",
       "    .dataframe tbody tr th:only-of-type {\n",
       "        vertical-align: middle;\n",
       "    }\n",
       "\n",
       "    .dataframe tbody tr th {\n",
       "        vertical-align: top;\n",
       "    }\n",
       "\n",
       "    .dataframe thead th {\n",
       "        text-align: right;\n",
       "    }\n",
       "</style>\n",
       "<table border=\"1\" class=\"dataframe\">\n",
       "  <thead>\n",
       "    <tr style=\"text-align: right;\">\n",
       "      <th></th>\n",
       "      <th>Calcium</th>\n",
       "      <th>Carbohydrate</th>\n",
       "      <th>Cholesterol</th>\n",
       "      <th>Fatty_acids_total_saturated</th>\n",
       "      <th>Fatty_acids_total_trans</th>\n",
       "      <th>Fiber</th>\n",
       "      <th>Iron</th>\n",
       "      <th>Protein</th>\n",
       "      <th>Sodium</th>\n",
       "      <th>Sugars</th>\n",
       "      <th>Fat</th>\n",
       "    </tr>\n",
       "  </thead>\n",
       "  <tbody>\n",
       "    <tr>\n",
       "      <th>0</th>\n",
       "      <td>15</td>\n",
       "      <td>13</td>\n",
       "      <td>0</td>\n",
       "      <td>1.5</td>\n",
       "      <td>0</td>\n",
       "      <td>3.0</td>\n",
       "      <td>0</td>\n",
       "      <td>1.0</td>\n",
       "      <td>10.0</td>\n",
       "      <td>10</td>\n",
       "      <td>6</td>\n",
       "    </tr>\n",
       "  </tbody>\n",
       "</table>\n",
       "</div>"
      ],
      "text/plain": [
       "  Calcium Carbohydrate Cholesterol Fatty_acids_total_saturated  \\\n",
       "0      15           13           0                         1.5   \n",
       "\n",
       "  Fatty_acids_total_trans Fiber Iron Protein Sodium Sugars Fat  \n",
       "0                       0   3.0    0     1.0   10.0     10   6  "
      ]
     },
     "execution_count": 22,
     "metadata": {},
     "output_type": "execute_result"
    }
   ],
   "source": [
    "pd.DataFrame(dic)"
   ]
  },
  {
   "cell_type": "code",
   "execution_count": 23,
   "metadata": {},
   "outputs": [
    {
     "data": {
      "text/plain": [
       "100.38680774368731"
      ]
     },
     "execution_count": 23,
     "metadata": {},
     "output_type": "execute_result"
    }
   ],
   "source": [
    "energy = LR.predict(pd.DataFrame(dic))\n",
    "energy = energy[0][0]\n",
    "energy"
   ]
  },
  {
   "cell_type": "code",
   "execution_count": 24,
   "metadata": {},
   "outputs": [
    {
     "data": {
      "text/plain": [
       "'pears, yellow peaches, pineapple, grapes, cherries, water, sugar, citric acid'"
      ]
     },
     "execution_count": 24,
     "metadata": {},
     "output_type": "execute_result"
    }
   ],
   "source": [
    "dic[\"Energy\"] = energy\n",
    "ingredients = LE.inverse_transform(RF_CLF.predict(pca.transform(pd.DataFrame(dic))))[0]\n",
    "ingredients"
   ]
  },
  {
   "cell_type": "code",
   "execution_count": 25,
   "metadata": {},
   "outputs": [
    {
     "data": {
      "text/html": [
       "<div>\n",
       "<style scoped>\n",
       "    .dataframe tbody tr th:only-of-type {\n",
       "        vertical-align: middle;\n",
       "    }\n",
       "\n",
       "    .dataframe tbody tr th {\n",
       "        vertical-align: top;\n",
       "    }\n",
       "\n",
       "    .dataframe thead th {\n",
       "        text-align: right;\n",
       "    }\n",
       "</style>\n",
       "<table border=\"1\" class=\"dataframe\">\n",
       "  <thead>\n",
       "    <tr style=\"text-align: right;\">\n",
       "      <th></th>\n",
       "      <th>Calcium</th>\n",
       "      <th>Carbohydrate</th>\n",
       "      <th>Cholesterol</th>\n",
       "      <th>Fatty_acids_total_saturated</th>\n",
       "      <th>Fatty_acids_total_trans</th>\n",
       "      <th>Fiber</th>\n",
       "      <th>Iron</th>\n",
       "      <th>Protein</th>\n",
       "      <th>Sodium</th>\n",
       "      <th>Sugars</th>\n",
       "      <th>Fat</th>\n",
       "      <th>Energy</th>\n",
       "      <th>ingredients</th>\n",
       "    </tr>\n",
       "  </thead>\n",
       "  <tbody>\n",
       "    <tr>\n",
       "      <th>12118</th>\n",
       "      <td>4.0</td>\n",
       "      <td>21.9</td>\n",
       "      <td>0.0</td>\n",
       "      <td>0.0</td>\n",
       "      <td>0.0</td>\n",
       "      <td>0.8</td>\n",
       "      <td>0.3</td>\n",
       "      <td>0.41</td>\n",
       "      <td>2.0</td>\n",
       "      <td>20.66</td>\n",
       "      <td>0.0</td>\n",
       "      <td>93.0</td>\n",
       "      <td>pears, yellow peaches, pineapple, grapes, cher...</td>\n",
       "    </tr>\n",
       "  </tbody>\n",
       "</table>\n",
       "</div>"
      ],
      "text/plain": [
       "       Calcium  Carbohydrate  Cholesterol  Fatty_acids_total_saturated  \\\n",
       "12118      4.0          21.9          0.0                          0.0   \n",
       "\n",
       "       Fatty_acids_total_trans  Fiber  Iron  Protein  Sodium  Sugars  Fat  \\\n",
       "12118                      0.0    0.8   0.3     0.41     2.0   20.66  0.0   \n",
       "\n",
       "       Energy                                        ingredients  \n",
       "12118    93.0  pears, yellow peaches, pineapple, grapes, cher...  "
      ]
     },
     "execution_count": 25,
     "metadata": {},
     "output_type": "execute_result"
    }
   ],
   "source": [
    "index = cls[cls.ingredients == ingredients].index[0]\n",
    "cls[cls.ingredients == ingredients]"
   ]
  },
  {
   "cell_type": "code",
   "execution_count": 26,
   "metadata": {},
   "outputs": [
    {
     "data": {
      "text/plain": [
       "[(12118, 1.0),\n",
       " (16764, 0.9999685333231354),\n",
       " (851, 0.9999061857856829),\n",
       " (1208, 0.9997411786531836),\n",
       " (2525, 0.9997262411392027)]"
      ]
     },
     "execution_count": 26,
     "metadata": {},
     "output_type": "execute_result"
    }
   ],
   "source": [
    "similar_items = sorted(enumerate(similarity[index]),key = lambda x: x[1],reverse=True)[:5]\n",
    "similar_items"
   ]
  },
  {
   "cell_type": "code",
   "execution_count": 27,
   "metadata": {},
   "outputs": [
    {
     "name": "stdout",
     "output_type": "stream",
     "text": [
      "pears, yellow peaches, pineapple, grapes, cherries, water, sugar, citric acid\n",
      "water, diced peaches, diced pears, sugar, pineapple tidbits, whole seedless grapes, colored halved cherries\n",
      "apricots, water, corn syrup, high fructose corn syrup, sugar\n",
      "banana, apple, whey protein isolate, water, natural flavor, cocoa powder, citric acid, ascorbic acid\n",
      "carrot, orange, turmeric, coconut cream, lime\n"
     ]
    }
   ],
   "source": [
    "li = list()\n",
    "for i,j in similar_items:\n",
    "    li.append(cls.iloc[i].ingredients)\n",
    "print(*li,sep='\\n')"
   ]
  },
  {
   "cell_type": "code",
   "execution_count": 33,
   "metadata": {},
   "outputs": [
    {
     "data": {
      "text/plain": [
       "Calcium                                                                      4.0\n",
       "Carbohydrate                                                                21.9\n",
       "Cholesterol                                                                  0.0\n",
       "Fatty_acids_total_saturated                                                  0.0\n",
       "Fatty_acids_total_trans                                                      0.0\n",
       "Fiber                                                                        0.8\n",
       "Iron                                                                         0.3\n",
       "Protein                                                                     0.41\n",
       "Sodium                                                                       2.0\n",
       "Sugars                                                                     20.66\n",
       "Fat                                                                          0.0\n",
       "Energy                                                                      93.0\n",
       "ingredients                    pears, yellow peaches, pineapple, grapes, cher...\n",
       "Name: 12118, dtype: object"
      ]
     },
     "execution_count": 33,
     "metadata": {},
     "output_type": "execute_result"
    }
   ],
   "source": [
    "cls.iloc[index]"
   ]
  },
  {
   "cell_type": "code",
   "execution_count": 39,
   "metadata": {},
   "outputs": [
    {
     "ename": "FileNotFoundError",
     "evalue": "[Errno 2] No such file or directory: './Fruits_Vegs/static/classification_table.pkl'",
     "output_type": "error",
     "traceback": [
      "\u001b[1;31m---------------------------------------------------------------------------\u001b[0m",
      "\u001b[1;31mFileNotFoundError\u001b[0m                         Traceback (most recent call last)",
      "Cell \u001b[1;32mIn[39], line 1\u001b[0m\n\u001b[1;32m----> 1\u001b[0m \u001b[38;5;28;01mwith\u001b[39;00m \u001b[38;5;28;43mopen\u001b[39;49m\u001b[43m(\u001b[49m\u001b[38;5;124;43m'\u001b[39;49m\u001b[38;5;124;43m./Fruits_Vegs/static/classification_table.pkl\u001b[39;49m\u001b[38;5;124;43m'\u001b[39;49m\u001b[43m,\u001b[49m\u001b[38;5;124;43m'\u001b[39;49m\u001b[38;5;124;43mrb\u001b[39;49m\u001b[38;5;124;43m'\u001b[39;49m\u001b[43m)\u001b[49m \u001b[38;5;28;01mas\u001b[39;00m file:\n\u001b[0;32m      2\u001b[0m     \u001b[38;5;28mcls\u001b[39m \u001b[38;5;241m=\u001b[39m pickle\u001b[38;5;241m.\u001b[39mload(file)\n",
      "File \u001b[1;32md:\\FoodData_Central_csv_2023-04-20\\env\\Lib\\site-packages\\IPython\\core\\interactiveshell.py:324\u001b[0m, in \u001b[0;36m_modified_open\u001b[1;34m(file, *args, **kwargs)\u001b[0m\n\u001b[0;32m    317\u001b[0m \u001b[38;5;28;01mif\u001b[39;00m file \u001b[38;5;129;01min\u001b[39;00m {\u001b[38;5;241m0\u001b[39m, \u001b[38;5;241m1\u001b[39m, \u001b[38;5;241m2\u001b[39m}:\n\u001b[0;32m    318\u001b[0m     \u001b[38;5;28;01mraise\u001b[39;00m \u001b[38;5;167;01mValueError\u001b[39;00m(\n\u001b[0;32m    319\u001b[0m         \u001b[38;5;124mf\u001b[39m\u001b[38;5;124m\"\u001b[39m\u001b[38;5;124mIPython won\u001b[39m\u001b[38;5;124m'\u001b[39m\u001b[38;5;124mt let you open fd=\u001b[39m\u001b[38;5;132;01m{\u001b[39;00mfile\u001b[38;5;132;01m}\u001b[39;00m\u001b[38;5;124m by default \u001b[39m\u001b[38;5;124m\"\u001b[39m\n\u001b[0;32m    320\u001b[0m         \u001b[38;5;124m\"\u001b[39m\u001b[38;5;124mas it is likely to crash IPython. If you know what you are doing, \u001b[39m\u001b[38;5;124m\"\u001b[39m\n\u001b[0;32m    321\u001b[0m         \u001b[38;5;124m\"\u001b[39m\u001b[38;5;124myou can use builtins\u001b[39m\u001b[38;5;124m'\u001b[39m\u001b[38;5;124m open.\u001b[39m\u001b[38;5;124m\"\u001b[39m\n\u001b[0;32m    322\u001b[0m     )\n\u001b[1;32m--> 324\u001b[0m \u001b[38;5;28;01mreturn\u001b[39;00m \u001b[43mio_open\u001b[49m\u001b[43m(\u001b[49m\u001b[43mfile\u001b[49m\u001b[43m,\u001b[49m\u001b[43m \u001b[49m\u001b[38;5;241;43m*\u001b[39;49m\u001b[43margs\u001b[49m\u001b[43m,\u001b[49m\u001b[43m \u001b[49m\u001b[38;5;241;43m*\u001b[39;49m\u001b[38;5;241;43m*\u001b[39;49m\u001b[43mkwargs\u001b[49m\u001b[43m)\u001b[49m\n",
      "\u001b[1;31mFileNotFoundError\u001b[0m: [Errno 2] No such file or directory: './Fruits_Vegs/static/classification_table.pkl'"
     ]
    }
   ],
   "source": [
    "with open('./Fruits_Vegs/static/classification_table.pkl','rb') as file:\n",
    "    cls = pickle.load(file)"
   ]
  },
  {
   "cell_type": "code",
   "execution_count": 56,
   "metadata": {},
   "outputs": [
    {
     "data": {
      "text/plain": [
       "0        a blend of grape, pineapple, pear and apple ju...\n",
       "1        a mixture of arugula, broccoli, amaranth, beet...\n",
       "2        a seasonal blend of organic greens such as: or...\n",
       "3        a spicy yet flavorful sea salt blend ingredien...\n",
       "4                          a water extract of dried prunes\n",
       "                               ...                        \n",
       "18647    zucchini, yellow squash, red onions, red bell ...\n",
       "18648                       zucchini, yellow squash, thyme\n",
       "18649    zucchini, yellow squash, yellow onion, dill, b...\n",
       "18650                       zucchini, yellow summer squash\n",
       "18651    zucchini-squash, carrots, cauliflower, italian...\n",
       "Name: ingredients, Length: 18652, dtype: object"
      ]
     },
     "execution_count": 56,
     "metadata": {},
     "output_type": "execute_result"
    }
   ],
   "source": [
    "cls.ingredients"
   ]
  },
  {
   "cell_type": "code",
   "execution_count": 53,
   "metadata": {},
   "outputs": [],
   "source": [
    "# def filter(a):\n",
    "#     li = []\n",
    "#     for i in a:\n",
    "#         if (i.isalpha()) or i == \" \" or i == ',':li.append(i)\n",
    "#         else:pass\n",
    "#     li = \"\".join(li).strip()\n",
    "#     return \" \".join(li.split(\" \",3)[:3])"
   ]
  },
  {
   "cell_type": "code",
   "execution_count": 54,
   "metadata": {},
   "outputs": [],
   "source": [
    "# cls.ingredients = cls.ingredients.apply(filter)"
   ]
  },
  {
   "cell_type": "code",
   "execution_count": 59,
   "metadata": {},
   "outputs": [
    {
     "data": {
      "text/html": [
       "<div>\n",
       "<style scoped>\n",
       "    .dataframe tbody tr th:only-of-type {\n",
       "        vertical-align: middle;\n",
       "    }\n",
       "\n",
       "    .dataframe tbody tr th {\n",
       "        vertical-align: top;\n",
       "    }\n",
       "\n",
       "    .dataframe thead th {\n",
       "        text-align: right;\n",
       "    }\n",
       "</style>\n",
       "<table border=\"1\" class=\"dataframe\">\n",
       "  <thead>\n",
       "    <tr style=\"text-align: right;\">\n",
       "      <th></th>\n",
       "      <th>ingredients</th>\n",
       "    </tr>\n",
       "  </thead>\n",
       "  <tbody>\n",
       "    <tr>\n",
       "      <th>0</th>\n",
       "      <td>a blend of grape, pineapple, pear and apple ju...</td>\n",
       "    </tr>\n",
       "    <tr>\n",
       "      <th>1</th>\n",
       "      <td>a mixture of arugula, broccoli, amaranth, beet...</td>\n",
       "    </tr>\n",
       "    <tr>\n",
       "      <th>2</th>\n",
       "      <td>a seasonal blend of organic greens such as: or...</td>\n",
       "    </tr>\n",
       "    <tr>\n",
       "      <th>3</th>\n",
       "      <td>a spicy yet flavorful sea salt blend ingredien...</td>\n",
       "    </tr>\n",
       "    <tr>\n",
       "      <th>4</th>\n",
       "      <td>a water extract of dried prunes</td>\n",
       "    </tr>\n",
       "    <tr>\n",
       "      <th>...</th>\n",
       "      <td>...</td>\n",
       "    </tr>\n",
       "    <tr>\n",
       "      <th>18647</th>\n",
       "      <td>zucchini, yellow squash, red onions, red bell ...</td>\n",
       "    </tr>\n",
       "    <tr>\n",
       "      <th>18648</th>\n",
       "      <td>zucchini, yellow squash, thyme</td>\n",
       "    </tr>\n",
       "    <tr>\n",
       "      <th>18649</th>\n",
       "      <td>zucchini, yellow squash, yellow onion, dill, b...</td>\n",
       "    </tr>\n",
       "    <tr>\n",
       "      <th>18650</th>\n",
       "      <td>zucchini, yellow summer squash</td>\n",
       "    </tr>\n",
       "    <tr>\n",
       "      <th>18651</th>\n",
       "      <td>zucchini-squash, carrots, cauliflower, italian...</td>\n",
       "    </tr>\n",
       "  </tbody>\n",
       "</table>\n",
       "<p>18652 rows × 1 columns</p>\n",
       "</div>"
      ],
      "text/plain": [
       "                                             ingredients\n",
       "0      a blend of grape, pineapple, pear and apple ju...\n",
       "1      a mixture of arugula, broccoli, amaranth, beet...\n",
       "2      a seasonal blend of organic greens such as: or...\n",
       "3      a spicy yet flavorful sea salt blend ingredien...\n",
       "4                        a water extract of dried prunes\n",
       "...                                                  ...\n",
       "18647  zucchini, yellow squash, red onions, red bell ...\n",
       "18648                     zucchini, yellow squash, thyme\n",
       "18649  zucchini, yellow squash, yellow onion, dill, b...\n",
       "18650                     zucchini, yellow summer squash\n",
       "18651  zucchini-squash, carrots, cauliflower, italian...\n",
       "\n",
       "[18652 rows x 1 columns]"
      ]
     },
     "execution_count": 59,
     "metadata": {},
     "output_type": "execute_result"
    }
   ],
   "source": [
    "cls[['ingredients']]"
   ]
  },
  {
   "cell_type": "code",
   "execution_count": 60,
   "metadata": {},
   "outputs": [],
   "source": [
    "with open('new_table.pkl','wb') as file:\n",
    "    pickle.dump(cls[['ingredients']],file)"
   ]
  },
  {
   "cell_type": "markdown",
   "metadata": {},
   "source": [
    "<h1>Vitamins and Diseases</h1>"
   ]
  },
  {
   "cell_type": "code",
   "execution_count": 36,
   "metadata": {},
   "outputs": [
    {
     "name": "stderr",
     "output_type": "stream",
     "text": [
      "d:\\FoodData_Central_csv_2023-04-20\\env\\Lib\\site-packages\\tqdm\\auto.py:21: TqdmWarning: IProgress not found. Please update jupyter and ipywidgets. See https://ipywidgets.readthedocs.io/en/stable/user_install.html\n",
      "  from .autonotebook import tqdm as notebook_tqdm\n"
     ]
    }
   ],
   "source": [
    "from transformers import PegasusForConditionalGeneration, PegasusTokenizer\n",
    "import requests\n",
    "from bs4 import BeautifulSoup"
   ]
  },
  {
   "cell_type": "code",
   "execution_count": 7,
   "metadata": {},
   "outputs": [],
   "source": [
    "with open('../Fruits_Vegs_Application/static/PickleFIles/vitamins_info.pkl','rb') as file:\n",
    "    vitamins_info = pickle.load(file)"
   ]
  },
  {
   "cell_type": "code",
   "execution_count": 8,
   "metadata": {},
   "outputs": [
    {
     "data": {
      "text/html": [
       "<div>\n",
       "<style scoped>\n",
       "    .dataframe tbody tr th:only-of-type {\n",
       "        vertical-align: middle;\n",
       "    }\n",
       "\n",
       "    .dataframe tbody tr th {\n",
       "        vertical-align: top;\n",
       "    }\n",
       "\n",
       "    .dataframe thead th {\n",
       "        text-align: right;\n",
       "    }\n",
       "</style>\n",
       "<table border=\"1\" class=\"dataframe\">\n",
       "  <thead>\n",
       "    <tr style=\"text-align: right;\">\n",
       "      <th></th>\n",
       "      <th>Vitamin</th>\n",
       "      <th>Disease</th>\n",
       "      <th>Age Group</th>\n",
       "      <th>Gender</th>\n",
       "      <th>links</th>\n",
       "    </tr>\n",
       "  </thead>\n",
       "  <tbody>\n",
       "    <tr>\n",
       "      <th>0</th>\n",
       "      <td>vitamin-a</td>\n",
       "      <td>Night blindness</td>\n",
       "      <td>Children</td>\n",
       "      <td>Female</td>\n",
       "      <td>https://www.hsph.harvard.edu/nutritionsource/v...</td>\n",
       "    </tr>\n",
       "    <tr>\n",
       "      <th>1</th>\n",
       "      <td>vitamin-a</td>\n",
       "      <td>Xerophthalmia</td>\n",
       "      <td>Children</td>\n",
       "      <td>Female</td>\n",
       "      <td>https://www.hsph.harvard.edu/nutritionsource/v...</td>\n",
       "    </tr>\n",
       "    <tr>\n",
       "      <th>2</th>\n",
       "      <td>vitamin-a</td>\n",
       "      <td>Keratomalacia</td>\n",
       "      <td>Children</td>\n",
       "      <td>Female</td>\n",
       "      <td>https://www.hsph.harvard.edu/nutritionsource/v...</td>\n",
       "    </tr>\n",
       "    <tr>\n",
       "      <th>3</th>\n",
       "      <td>vitamin-a</td>\n",
       "      <td>Bitot's spots</td>\n",
       "      <td>Children</td>\n",
       "      <td>Female</td>\n",
       "      <td>https://www.hsph.harvard.edu/nutritionsource/v...</td>\n",
       "    </tr>\n",
       "    <tr>\n",
       "      <th>4</th>\n",
       "      <td>vitamin-a</td>\n",
       "      <td>Hyperkeratosis</td>\n",
       "      <td>Adults</td>\n",
       "      <td>Female</td>\n",
       "      <td>https://www.hsph.harvard.edu/nutritionsource/v...</td>\n",
       "    </tr>\n",
       "    <tr>\n",
       "      <th>...</th>\n",
       "      <td>...</td>\n",
       "      <td>...</td>\n",
       "      <td>...</td>\n",
       "      <td>...</td>\n",
       "      <td>...</td>\n",
       "    </tr>\n",
       "    <tr>\n",
       "      <th>125</th>\n",
       "      <td>vitamin-k</td>\n",
       "      <td>Hemorrhagic disease of the newborn</td>\n",
       "      <td>Newborns</td>\n",
       "      <td>Female</td>\n",
       "      <td>https://www.hsph.harvard.edu/nutritionsource/v...</td>\n",
       "    </tr>\n",
       "    <tr>\n",
       "      <th>126</th>\n",
       "      <td>vitamin-k</td>\n",
       "      <td>Osteoporosis</td>\n",
       "      <td>Elderly</td>\n",
       "      <td>Female</td>\n",
       "      <td>https://www.hsph.harvard.edu/nutritionsource/v...</td>\n",
       "    </tr>\n",
       "    <tr>\n",
       "      <th>127</th>\n",
       "      <td>vitamin-k</td>\n",
       "      <td>Impaired wound healing</td>\n",
       "      <td>Adults</td>\n",
       "      <td>Female</td>\n",
       "      <td>https://www.hsph.harvard.edu/nutritionsource/v...</td>\n",
       "    </tr>\n",
       "    <tr>\n",
       "      <th>128</th>\n",
       "      <td>vitamin-k</td>\n",
       "      <td>Hematoma</td>\n",
       "      <td>Adults</td>\n",
       "      <td>Female</td>\n",
       "      <td>https://www.hsph.harvard.edu/nutritionsource/v...</td>\n",
       "    </tr>\n",
       "    <tr>\n",
       "      <th>129</th>\n",
       "      <td>vitamin-k</td>\n",
       "      <td>Gastrointestinal bleeding</td>\n",
       "      <td>Adults</td>\n",
       "      <td>Female</td>\n",
       "      <td>https://www.hsph.harvard.edu/nutritionsource/v...</td>\n",
       "    </tr>\n",
       "  </tbody>\n",
       "</table>\n",
       "<p>130 rows × 5 columns</p>\n",
       "</div>"
      ],
      "text/plain": [
       "       Vitamin                             Disease Age Group  Gender  \\\n",
       "0    vitamin-a                     Night blindness  Children  Female   \n",
       "1    vitamin-a                       Xerophthalmia  Children  Female   \n",
       "2    vitamin-a                       Keratomalacia  Children  Female   \n",
       "3    vitamin-a                       Bitot's spots  Children  Female   \n",
       "4    vitamin-a                      Hyperkeratosis    Adults  Female   \n",
       "..         ...                                 ...       ...     ...   \n",
       "125  vitamin-k  Hemorrhagic disease of the newborn  Newborns  Female   \n",
       "126  vitamin-k                        Osteoporosis   Elderly  Female   \n",
       "127  vitamin-k              Impaired wound healing    Adults  Female   \n",
       "128  vitamin-k                            Hematoma    Adults  Female   \n",
       "129  vitamin-k           Gastrointestinal bleeding    Adults  Female   \n",
       "\n",
       "                                                 links  \n",
       "0    https://www.hsph.harvard.edu/nutritionsource/v...  \n",
       "1    https://www.hsph.harvard.edu/nutritionsource/v...  \n",
       "2    https://www.hsph.harvard.edu/nutritionsource/v...  \n",
       "3    https://www.hsph.harvard.edu/nutritionsource/v...  \n",
       "4    https://www.hsph.harvard.edu/nutritionsource/v...  \n",
       "..                                                 ...  \n",
       "125  https://www.hsph.harvard.edu/nutritionsource/v...  \n",
       "126  https://www.hsph.harvard.edu/nutritionsource/v...  \n",
       "127  https://www.hsph.harvard.edu/nutritionsource/v...  \n",
       "128  https://www.hsph.harvard.edu/nutritionsource/v...  \n",
       "129  https://www.hsph.harvard.edu/nutritionsource/v...  \n",
       "\n",
       "[130 rows x 5 columns]"
      ]
     },
     "execution_count": 8,
     "metadata": {},
     "output_type": "execute_result"
    }
   ],
   "source": [
    "vitamins_info"
   ]
  },
  {
   "cell_type": "code",
   "execution_count": 9,
   "metadata": {},
   "outputs": [
    {
     "data": {
      "text/plain": [
       "array(['vitamin-a', 'vitamin-b1', 'vitamin-b2', 'vitamin-b3',\n",
       "       'vitamin-b5', 'vitamin-b6', 'vitamin-b7', 'vitamin-b9',\n",
       "       'vitamin-b12', 'vitamin-c', 'vitamin-d', 'vitamin-e', 'vitamin-k'],\n",
       "      dtype=object)"
      ]
     },
     "execution_count": 9,
     "metadata": {},
     "output_type": "execute_result"
    }
   ],
   "source": [
    "vitamins_info.Vitamin.unique()"
   ]
  },
  {
   "cell_type": "code",
   "execution_count": 21,
   "metadata": {},
   "outputs": [
    {
     "data": {
      "text/plain": [
       "'vitamin-b1'"
      ]
     },
     "execution_count": 21,
     "metadata": {},
     "output_type": "execute_result"
    }
   ],
   "source": [
    "a = input(r\"Enter Deficien Vitamins from the list 'vitamin-a', 'vitamin-b1', 'vitamin-b2', 'vitamin-b3''vitamin-b5', 'vitamin-b6', 'vitamin-b7', 'vitamin-b9','vitamin-b12', 'vitamin-c', 'vitamin-d', 'vitamin-e', 'vitamin-k'\")\n",
    "a"
   ]
  },
  {
   "cell_type": "code",
   "execution_count": 25,
   "metadata": {},
   "outputs": [
    {
     "name": "stdout",
     "output_type": "stream",
     "text": [
      "--------Webpage content stored in 'webpage_content' variable.--------\n",
      "Food Should comsume for gainingvitamin-b1\n",
      "Fortified breakfast cereals\n",
      "Pork\n",
      "Fish\n",
      "Beans,lentils\n",
      "Green peas\n",
      "Enriched cereals, breads, noodles,rice\n",
      "Sunflower seeds\n",
      "Yogurt\n"
     ]
    }
   ],
   "source": [
    "url = vitamins_info[vitamins_info.Vitamin == a]['links'].iloc[0]\n",
    "response = requests.get(url)\n",
    "if response.status_code == 200:\n",
    "    # Store the HTML content in a variable\n",
    "    webpage_content = response.text\n",
    "    print(\"--------Webpage content stored in 'webpage_content' variable.--------\")\n",
    "else:\n",
    "    print(f\"Failed to retrieve the webpage. Status code: {response.status_code}\")\n",
    "#-------------------------------\n",
    "soup = BeautifulSoup(webpage_content, 'html.parser')\n",
    "food_sources_heading = soup.find('h3', string='Food Sources')\n",
    "if food_sources_heading:\n",
    "    ul_tag = food_sources_heading.find_next('ul')\n",
    "    if ul_tag:\n",
    "        list_items = ul_tag.find_all('li')\n",
    "        food_items = [item.get_text(strip=True) for item in list_items]\n",
    "\n",
    "    else:\n",
    "        print(\"No unordered list found after 'Food Sources' heading.\")\n",
    "else:\n",
    "    print(\"Food Sources heading not found.\")"
   ]
  },
  {
   "cell_type": "code",
   "execution_count": 33,
   "metadata": {},
   "outputs": [
    {
     "name": "stdout",
     "output_type": "stream",
     "text": [
      "-----vitamin-b1 deficiency diseases-----\n",
      "Beriberi\n",
      "Wernicke-Korsakoff syndrome\n",
      "Confusion\n",
      "Muscle weakness\n",
      "Peripheral neuropathy\n",
      "Cardiovascular problems\n",
      "Edema\n",
      "Nystagmus\n",
      "Ataxia\n",
      "Memory loss\n"
     ]
    }
   ],
   "source": [
    "print(f'-----{a} deficiency diseases-----')\n",
    "print(*vitamins_info[vitamins_info.Vitamin == a]['Disease'].values,sep='\\n')"
   ]
  },
  {
   "cell_type": "code",
   "execution_count": 35,
   "metadata": {},
   "outputs": [
    {
     "name": "stdout",
     "output_type": "stream",
     "text": [
      "Signs of Deficiency and Toxicity Text:\n",
      "A thiamin deficiency in the U.S. is rare, as most people meet the RDA through their diets. It can occur from a low intake of foods containing thiamin, decreased absorption in the gut, or increased losses in urine such as with alcohol abuse or certain medications like diuretics.\n",
      "A more severe thiamin deficiency can lead to beriberi, which causes muscle loss and diminished feeling in the hands and feet (peripheral neuropathy). Because beriberi impairs reflexes and motor function, it can eventually lead to deadly fluid build-up in the heart and lower limbs. Another result of serious thiamin deficiency often seen with alcohol abuse is Wernicke-Korsakoff syndrome that may cause confusion, loss of muscle coordination, and peripheral neuropathy. Both types of deficiency are also seen with compromised gastrointestinal conditions such as celiac disease or bariatric surgery, or those with HIV/AIDs. Treatment is high- dose supplements or injections through a vein along with a balanced diet.\n",
      "Symptoms appearing with mild to moderate deficiency:\n",
      "- Weight loss\n",
      "- Confusion, memory loss\n",
      "- Muscle weakness\n",
      "- Peripheral neuropathy\n",
      "- Lowered immunity\n",
      "It is unlikely to reach a toxic level of thiamin from food sources alone. In the setting of very high intakes, the body will absorb less of the nutrient and flush out any excess amount through the urine. There is no established toxic level of thiamin.\n"
     ]
    }
   ],
   "source": [
    "soup = BeautifulSoup(webpage_content, 'html.parser')\n",
    "\n",
    "# Find the <h3>Signs of Deficiency and Toxicity</h3> tag\n"
   ]
  },
  {
   "cell_type": "code",
   "execution_count": null,
   "metadata": {},
   "outputs": [],
   "source": [
    "\n",
    "\n",
    "# Your URL\n",
    "url = vitamins_links['vitamin-e']\n",
    "response = requests.get(url)\n",
    "\n",
    "if response.status_code == 200:\n",
    "    # Store the HTML content in a variable\n",
    "    webpage_content = response.text\n",
    "\n",
    "    soup = BeautifulSoup(webpage_content, 'html.parser')\n",
    "\n",
    "    \n"
   ]
  },
  {
   "cell_type": "markdown",
   "metadata": {},
   "source": [
    "<h1> Final"
   ]
  },
  {
   "cell_type": "code",
   "execution_count": 38,
   "metadata": {},
   "outputs": [],
   "source": [
    "from transformers import PegasusForConditionalGeneration, PegasusTokenizer"
   ]
  },
  {
   "cell_type": "code",
   "execution_count": 39,
   "metadata": {},
   "outputs": [
    {
     "name": "stderr",
     "output_type": "stream",
     "text": [
      "Some weights of PegasusForConditionalGeneration were not initialized from the model checkpoint at google/pegasus-xsum and are newly initialized: ['model.decoder.embed_positions.weight', 'model.encoder.embed_positions.weight']\n",
      "You should probably TRAIN this model on a down-stream task to be able to use it for predictions and inference.\n"
     ]
    }
   ],
   "source": [
    "tokenizer = PegasusTokenizer.from_pretrained(\"google/pegasus-xsum\")\n",
    "model = PegasusForConditionalGeneration.from_pretrained(\"google/pegasus-xsum\")"
   ]
  },
  {
   "cell_type": "code",
   "execution_count": 81,
   "metadata": {},
   "outputs": [
    {
     "name": "stdout",
     "output_type": "stream",
     "text": [
      "Signs of Deficiency and Toxicity Text (tag \"Signs of Deficiency and Toxicity\"):\n"
     ]
    }
   ],
   "source": [
    "a = input(r\"Enter Deficien Vitamins from the list 'vitamin-a', 'vitamin-b1', 'vitamin-b2', 'vitamin-b3''vitamin-b5', 'vitamin-b6', 'vitamin-b7', 'vitamin-b9','vitamin-b12', 'vitamin-c', 'vitamin-d', 'vitamin-e', 'vitamin-k'\")\n",
    "\n",
    "#getting info from webage and storign html content in a variable(webage_content)\n",
    "url = vitamins_info[vitamins_info.Vitamin == a]['links'].iloc[0]\n",
    "response = requests.get(url)\n",
    "if response.status_code == 200:\n",
    "    webpage_content = response.text\n",
    "    soup = BeautifulSoup(webpage_content, 'html.parser')\n",
    "\n",
    "\n",
    "    #retrieving food to consume from the webpage content\n",
    "    food_sources_heading = soup.find('h3', string='Food Sources')\n",
    "    if food_sources_heading:\n",
    "        ul_tag = food_sources_heading.find_next('ul')\n",
    "        if ul_tag:\n",
    "            list_items = ul_tag.find_all('li')\n",
    "            food_items = [item.get_text(strip=True) for item in list_items]\n",
    "        else:print(\"No unordered list found after 'Food Sources' heading.\")\n",
    "    else:print(\"Food Sources heading not found.\")\n",
    "\n",
    "\n",
    "    #retreiving Signs of Deficiency and Toxicity Text from webpage contents\n",
    "    def get_deficiency_toxicity_text(soup, tags):\n",
    "        for tag in tags:\n",
    "            deficiency_toxicity_tag = soup.find('h3', string=tag)\n",
    "            if deficiency_toxicity_tag:\n",
    "                deficiency_toxicity_text = ''\n",
    "                next_tag = deficiency_toxicity_tag.find_next_sibling()\n",
    "                while next_tag and next_tag.name != 'h3':\n",
    "                    if next_tag.name == 'p':\n",
    "                        deficiency_toxicity_text += next_tag.get_text() + '\\n'\n",
    "                    elif next_tag.name == 'ul':\n",
    "                        for li in next_tag.find_all('li'):\n",
    "                            deficiency_toxicity_text += f\"- {li.get_text()}\\n\"\n",
    "                    next_tag = next_tag.find_next_sibling()\n",
    "                print(f'Signs of Deficiency and Toxicity Text (tag \"{tag}\"):')\n",
    "                return deficiency_toxicity_text\n",
    "        print('No matching <h3> tag found for Signs of Deficiency and Toxicity')\n",
    "\n",
    "    tags_to_search = ['Signs of Deficiency and Toxicity', 'Signs of Deficiency', 'Signs of Deficiency and Toxicity ']\n",
    "    deficiency_toxicity_text = get_deficiency_toxicity_text(soup, tags_to_search)\n",
    "\n",
    "\n",
    "    #summarizing the data from webpage content\n",
    "    def split_text_into_chunks(text, chunk_size):\n",
    "        chunks = [text[i:i + chunk_size] for i in range(0, len(text), chunk_size)]\n",
    "        return chunks\n",
    "    def summarize_text(text, model, tokenizer):\n",
    "        tokens = tokenizer(text, truncation=True, padding=\"longest\", return_tensors=\"pt\", max_length=1024)\n",
    "        summary = model.generate(**tokens)\n",
    "        return tokenizer.decode(summary[0], skip_special_tokens=True)\n",
    "    \n",
    "    entry_content_div = soup.find('div', class_='entry-content')\n",
    "\n",
    "    if entry_content_div:\n",
    "        main_content_text = entry_content_div.get_text(separator='\\n').strip()\n",
    "        main_content_text = main_content_text.split(\"Related\", 1)[0].strip()\n",
    "\n",
    "        # Split the text into chunks of 1000 words (adjust as needed)\n",
    "        chunk_size = 700\n",
    "        text_chunks = split_text_into_chunks(main_content_text, chunk_size)\n",
    "        summaries = [summarize_text(chunk, model, tokenizer) for chunk in text_chunks]\n",
    "        final_summary = ' '.join(summaries)\n",
    "\n",
    "    else:\n",
    "        print('No <div> element with class \"entry-content\" found')\n",
    "else:\n",
    "    print('Error fetching the webpage')"
   ]
  },
  {
   "cell_type": "code",
   "execution_count": 83,
   "metadata": {},
   "outputs": [],
   "source": [
    "with open('vitamins_info.pkl','wb') as file:\n",
    "    pickle.dump(vitamins_info,file)"
   ]
  },
  {
   "cell_type": "code",
   "execution_count": 82,
   "metadata": {},
   "outputs": [
    {
     "name": "stdout",
     "output_type": "stream",
     "text": [
      "-----vitamin-b6 deficiency diseases-----\n",
      "Anemia\n",
      "Dermatitis\n",
      "Neuropathy\n",
      "Seizures\n",
      "Depression\n",
      "Confusion\n",
      "Weakened immune function\n",
      "Cognitive decline\n",
      "Microcytic anemia\n",
      "Homocysteine buildup\n",
      "----Food Should comsume for gaining vitamin-b6----\n",
      "Beef liver\n",
      "Tuna\n",
      "Salmon\n",
      "Fortified cereals\n",
      "Chickpeas\n",
      "Poultry\n",
      "Somevegetables and fruits, especiallydark leafy greens,bananas, papayas, oranges, and cantaloupe\n",
      "----Signs of Deficiency and Toxicity Text:----\n",
      "A vitamin B6 deficiency most often occurs when other B vitamins in the body are low, particularly vitamin B12 and folic acid. A mild deficiency may have no symptoms, but a more severe or prolonged deficiency can exhibit the following:\n",
      "- Microcytic anemia\n",
      "- Skin conditions\n",
      "- Depression\n",
      "- Confusion\n",
      "- Lowered immunity\n",
      "Certain conditions can increase the risk of developing a deficiency by interfering with the absorption of vitamin B6:\n",
      "- Kidney disease\n",
      "- Autoimmune intestinal disorders like celiac disease, ulcerative colitis, and Crohn’s disease\n",
      "- Autoimmune inflammatory disorders such as rheumatoid arthritis\n",
      "- Alcoholism\n",
      "It is quite unlikely to reach a toxic level of vitamin B6 from food sources alone. Vitamin B6 is a water-soluble vitamin so that unused amounts will exit the body through the urine. [2] However, a toxic level can occur from long-term very high dose supplementation of greater than 1,000 mg daily. [1] Symptoms usually subside after stopping the high dosage. Symptoms include:\n",
      "- Neuropathy in feet and hands\n",
      "- Ataxia (loss of control of body movements)\n",
      "- Nausea\n",
      "\n",
      "----Summary:----\n",
      "Vitamin B6 is one of the most important nutrients for human health. The recommended daily intake of vitamin B6 is 100 mg for adults 19 years and older, with slightly lesser amounts in children and teenagers. The recommended daily allowance (RDA) of vitamin D is 150 micrograms (mcg) for adults and 100 micrograms (mcg) for children. Vitamin B supplements have been linked to an increased risk of heart attack and stroke. Vitamin B6 supplements do not prevent heart attacks or strokes, according to a review. Vitamin B6 supplements do not appear to slow cognitive decline in older adults, according to a Cochrane review. Vitamin B6 has been linked to a reduced risk of cancer. Vitamin B6 supplements may not reduce the risk of colorectal cancer, according to a study in the Journal of the National Cancer Institute. A study in the Journal of the American College of Cardiology suggests that higher levels of a vitamin may reduce the risk of colorectal cancer. Morning sickness Vitamin B6 has long been documented as a remedy to help relieve pregnancy-related nausea and its most severe form, hyperemesis gravidarum. Vitamin B6 has been shown to be an effective treatment for nausea during pregnancy. Vitamin B6 is one of the six B vitamins. Vitamin B6 can be toxic if taken in high doses.\n"
     ]
    }
   ],
   "source": [
    "print(f'-----{a} deficiency diseases-----')\n",
    "print(*vitamins_info[vitamins_info.Vitamin == a]['Disease'].values,sep='\\n')\n",
    "\n",
    "print(f\"----Food Should comsume for gaining {a}----\")\n",
    "print(*food_items,sep = '\\n')\n",
    "\n",
    "print('----Signs of Deficiency and Toxicity Text:----')\n",
    "print(deficiency_toxicity_text.strip())\n",
    "\n",
    "print('\\n----Summary:----')\n",
    "print(final_summary)"
   ]
  },
  {
   "cell_type": "code",
   "execution_count": null,
   "metadata": {},
   "outputs": [],
   "source": []
  }
 ],
 "metadata": {
  "kernelspec": {
   "display_name": "Python 3",
   "language": "python",
   "name": "python3"
  },
  "language_info": {
   "codemirror_mode": {
    "name": "ipython",
    "version": 3
   },
   "file_extension": ".py",
   "mimetype": "text/x-python",
   "name": "python",
   "nbconvert_exporter": "python",
   "pygments_lexer": "ipython3",
   "version": "3.12.2"
  }
 },
 "nbformat": 4,
 "nbformat_minor": 2
}
